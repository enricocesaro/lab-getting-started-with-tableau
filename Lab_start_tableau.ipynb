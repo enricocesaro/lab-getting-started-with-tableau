{
 "cells": [
  {
   "cell_type": "code",
   "execution_count": 5,
   "source": [
    "\n",
    "import pandas as pd\n",
    "import numpy as np"
   ],
   "outputs": [],
   "metadata": {}
  },
  {
   "cell_type": "code",
   "execution_count": 7,
   "source": [
    "customer = pd.read_csv('we_fn_use_c_marketing_customer_value_analysis.csv').drop('Customer', axis = 1)\n"
   ],
   "outputs": [],
   "metadata": {}
  },
  {
   "cell_type": "code",
   "execution_count": 8,
   "source": [
    "measurements = customer.select_dtypes(include = np.number)\n",
    "dimensions = customer.select_dtypes(include = object)"
   ],
   "outputs": [],
   "metadata": {}
  },
  {
   "cell_type": "code",
   "execution_count": 12,
   "source": [
    "print('\\nMEAUSUREMENTS DATAFRAME')\n",
    "\n",
    "for column in measurements.columns:\n",
    "    print(column)"
   ],
   "outputs": [
    {
     "output_type": "stream",
     "name": "stdout",
     "text": [
      "\n",
      "MEAUSUREMENTS DATAFRAME\n",
      "Customer Lifetime Value\n",
      "Income\n",
      "Monthly Premium Auto\n",
      "Months Since Last Claim\n",
      "Months Since Policy Inception\n",
      "Number of Open Complaints\n",
      "Number of Policies\n",
      "Total Claim Amount\n"
     ]
    }
   ],
   "metadata": {}
  },
  {
   "cell_type": "code",
   "execution_count": 16,
   "source": [
    "print('\\nDIMENSIONS DATAFRAME')\n",
    "\n",
    "for column in dimensions.columns:\n",
    "    print(column)"
   ],
   "outputs": [
    {
     "output_type": "stream",
     "name": "stdout",
     "text": [
      "\n",
      "DIMENSIONS DATAFRAME\n",
      "State\n",
      "Response\n",
      "Coverage\n",
      "Education\n",
      "Effective To Date\n",
      "EmploymentStatus\n",
      "Gender\n",
      "Location Code\n",
      "Marital Status\n",
      "Policy Type\n",
      "Policy\n",
      "Renew Offer Type\n",
      "Sales Channel\n",
      "Vehicle Class\n",
      "Vehicle Size\n"
     ]
    }
   ],
   "metadata": {}
  }
 ],
 "metadata": {
  "orig_nbformat": 4,
  "language_info": {
   "name": "python",
   "version": "3.7.6",
   "mimetype": "text/x-python",
   "codemirror_mode": {
    "name": "ipython",
    "version": 3
   },
   "pygments_lexer": "ipython3",
   "nbconvert_exporter": "python",
   "file_extension": ".py"
  },
  "kernelspec": {
   "name": "python3",
   "display_name": "Python 3.7.6 64-bit ('base': conda)"
  },
  "interpreter": {
   "hash": "dca0ade3e726a953b501b15e8e990130d2b7799f14cfd9f4271676035ebe5511"
  }
 },
 "nbformat": 4,
 "nbformat_minor": 2
}